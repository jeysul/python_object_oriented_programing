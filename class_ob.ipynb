{
 "cells": [
  {
   "cell_type": "markdown",
   "source": [
    "Defining python classes and making interface and calling clsses and passing values"
   ],
   "metadata": {}
  },
  {
   "cell_type": "code",
   "execution_count": 8,
   "source": [
    "class Book:\r\n",
    "    ''' Here we have defined a class which is as Book\r\n",
    "    The init function is called when the instance is created and ready to be initialized'''\r\n",
    "    def __init__(self, title, author, pages, price):\r\n",
    "        self.title = title\r\n",
    "        self.author = author\r\n",
    "        self.pages = pages\r\n",
    "        self.price = price\r\n",
    "    \r\n",
    "    def set_discount(self, amount):\r\n",
    "        self.discount = amount\r\n",
    "\r\n",
    "\r\n",
    "    def get_Price(self):\r\n",
    "        if hasattr(self, \"discount\"):\r\n",
    "            return self.price - (self.price * self.discount)\r\n",
    "        else:\r\n",
    "            return self.price\r\n",
    "    \r\n",
    "b1 = Book(\"War and Peace\", \"Leo Tolstoy\", 1225, 39.95)\r\n",
    "b2 = Book(\"The Catcher in the Rye\", \"JD Salinger\", 234, 29.95)\r\n",
    "\r\n",
    "\r\n",
    "print(b1.get_Price())\r\n",
    "\r\n",
    "print(b2.get_Price())\r\n",
    "b2.set_discount(0.25)\r\n",
    "print(b2.get_Price())\r\n",
    "\r\n",
    "print(b2.discount)"
   ],
   "outputs": [
    {
     "output_type": "stream",
     "name": "stdout",
     "text": [
      "39.95\n",
      "29.95\n",
      "22.4625\n",
      "0.25\n"
     ]
    }
   ],
   "metadata": {}
  },
  {
   "cell_type": "code",
   "execution_count": null,
   "source": [
    "class Book:\r\n",
    "    def __init__(self, title):\r\n",
    "        self.title = title\r\n",
    "    \r\n",
    "class Newspaper:\r\n",
    "        def __init__(self, name):\r\n",
    "            self.name = name\r\n",
    "\r\n",
    "\r\n",
    "# create some instances of the class\r\n",
    "b1 = Book(\"The Catcher In The Rye\")\r\n",
    "b2 = Book(\"The Grapes of Wrath\")\r\n",
    "n1 = Newspaper(\"The Washington Post\")\r\n",
    "n2 = Newspaper(\"The New York Times\")\r\n",
    "\r\n",
    "# todo use type() to inspect the object type\r\n",
    "print(type(b1))\r\n",
    "print(type(n1))\r\n",
    "\r\n",
    "# todo compare two types together\r\n",
    "print(type(b1) == type(b2))\r\n",
    "print(type(b1) == type(n1))\r\n",
    "\r\n",
    "\r\n",
    "# todo use isinstance to compare a specific instance to a known type\r\n",
    "print(isinstance(b1, Book))\r\n",
    "print(isinstance(n1, Newspaper))\r\n",
    "\r\n",
    "print(isinstance(n2, Book))\r\n",
    "print(isinstance(n2, object))"
   ],
   "outputs": [],
   "metadata": {}
  },
  {
   "cell_type": "code",
   "execution_count": null,
   "source": [],
   "outputs": [],
   "metadata": {}
  }
 ],
 "metadata": {
  "orig_nbformat": 4,
  "language_info": {
   "name": "python",
   "version": "3.9.5",
   "mimetype": "text/x-python",
   "codemirror_mode": {
    "name": "ipython",
    "version": 3
   },
   "pygments_lexer": "ipython3",
   "nbconvert_exporter": "python",
   "file_extension": ".py"
  },
  "kernelspec": {
   "name": "python3",
   "display_name": "Python 3.9.5 64-bit"
  },
  "interpreter": {
   "hash": "ac59ebe37160ed0dfa835113d9b8498d9f09ceb179beaac4002f036b9467c963"
  }
 },
 "nbformat": 4,
 "nbformat_minor": 2
}